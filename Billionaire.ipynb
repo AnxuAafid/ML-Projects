{
 "cells": [
  {
   "cell_type": "code",
   "execution_count": 1,
   "id": "4d12119d",
   "metadata": {},
   "outputs": [],
   "source": [
    "import numpy as np\n",
    "import pandas as pd\n",
    "import matplotlib.pyplot as plt\n",
    "%matplotlib inline"
   ]
  },
  {
   "cell_type": "code",
   "execution_count": 2,
   "id": "9e56b48c",
   "metadata": {},
   "outputs": [],
   "source": [
    "bill_data = pd.read_csv('Billionaire.csv')"
   ]
  },
  {
   "cell_type": "code",
   "execution_count": 3,
   "id": "dcd2e1d9",
   "metadata": {},
   "outputs": [
    {
     "data": {
      "text/html": [
       "<div>\n",
       "<style scoped>\n",
       "    .dataframe tbody tr th:only-of-type {\n",
       "        vertical-align: middle;\n",
       "    }\n",
       "\n",
       "    .dataframe tbody tr th {\n",
       "        vertical-align: top;\n",
       "    }\n",
       "\n",
       "    .dataframe thead th {\n",
       "        text-align: right;\n",
       "    }\n",
       "</style>\n",
       "<table border=\"1\" class=\"dataframe\">\n",
       "  <thead>\n",
       "    <tr style=\"text-align: right;\">\n",
       "      <th></th>\n",
       "      <th>Name</th>\n",
       "      <th>NetWorth</th>\n",
       "      <th>Country</th>\n",
       "      <th>Source</th>\n",
       "      <th>Rank</th>\n",
       "      <th>Age</th>\n",
       "      <th>Industry</th>\n",
       "    </tr>\n",
       "  </thead>\n",
       "  <tbody>\n",
       "    <tr>\n",
       "      <th>0</th>\n",
       "      <td>Jeff Bezos</td>\n",
       "      <td>$177 B</td>\n",
       "      <td>United States</td>\n",
       "      <td>Amazon</td>\n",
       "      <td>1</td>\n",
       "      <td>57.0</td>\n",
       "      <td>Technology</td>\n",
       "    </tr>\n",
       "    <tr>\n",
       "      <th>1</th>\n",
       "      <td>Elon Musk</td>\n",
       "      <td>$151 B</td>\n",
       "      <td>United States</td>\n",
       "      <td>Tesla, SpaceX</td>\n",
       "      <td>2</td>\n",
       "      <td>49.0</td>\n",
       "      <td>Automotive</td>\n",
       "    </tr>\n",
       "    <tr>\n",
       "      <th>2</th>\n",
       "      <td>Bernard Arnault &amp; family</td>\n",
       "      <td>$150 B</td>\n",
       "      <td>France</td>\n",
       "      <td>LVMH</td>\n",
       "      <td>3</td>\n",
       "      <td>72.0</td>\n",
       "      <td>Fashion &amp; Retail</td>\n",
       "    </tr>\n",
       "    <tr>\n",
       "      <th>3</th>\n",
       "      <td>Bill Gates</td>\n",
       "      <td>$124 B</td>\n",
       "      <td>United States</td>\n",
       "      <td>Microsoft</td>\n",
       "      <td>4</td>\n",
       "      <td>65.0</td>\n",
       "      <td>Technology</td>\n",
       "    </tr>\n",
       "    <tr>\n",
       "      <th>4</th>\n",
       "      <td>Mark Zuckerberg</td>\n",
       "      <td>$97 B</td>\n",
       "      <td>United States</td>\n",
       "      <td>Facebook</td>\n",
       "      <td>5</td>\n",
       "      <td>36.0</td>\n",
       "      <td>Technology</td>\n",
       "    </tr>\n",
       "  </tbody>\n",
       "</table>\n",
       "</div>"
      ],
      "text/plain": [
       "                       Name NetWorth        Country         Source  Rank  \\\n",
       "0                Jeff Bezos   $177 B  United States         Amazon     1   \n",
       "1                 Elon Musk   $151 B  United States  Tesla, SpaceX     2   \n",
       "2  Bernard Arnault & family   $150 B         France           LVMH     3   \n",
       "3                Bill Gates   $124 B  United States      Microsoft     4   \n",
       "4           Mark Zuckerberg    $97 B  United States       Facebook     5   \n",
       "\n",
       "    Age          Industry  \n",
       "0  57.0        Technology  \n",
       "1  49.0        Automotive  \n",
       "2  72.0  Fashion & Retail  \n",
       "3  65.0        Technology  \n",
       "4  36.0        Technology  "
      ]
     },
     "execution_count": 3,
     "metadata": {},
     "output_type": "execute_result"
    }
   ],
   "source": [
    "bill_data.head()"
   ]
  },
  {
   "cell_type": "code",
   "execution_count": 4,
   "id": "77ba7b91",
   "metadata": {},
   "outputs": [
    {
     "data": {
      "text/plain": [
       "(2755, 7)"
      ]
     },
     "execution_count": 4,
     "metadata": {},
     "output_type": "execute_result"
    }
   ],
   "source": [
    "bill_data.shape"
   ]
  },
  {
   "cell_type": "code",
   "execution_count": 5,
   "id": "b5ec2167",
   "metadata": {},
   "outputs": [
    {
     "data": {
      "text/plain": [
       "Name         0\n",
       "NetWorth     0\n",
       "Country      0\n",
       "Source       0\n",
       "Rank         0\n",
       "Age         79\n",
       "Industry     0\n",
       "dtype: int64"
      ]
     },
     "execution_count": 5,
     "metadata": {},
     "output_type": "execute_result"
    }
   ],
   "source": [
    "bill_data.isnull().sum()"
   ]
  },
  {
   "cell_type": "code",
   "execution_count": 6,
   "id": "3f65aa4d",
   "metadata": {},
   "outputs": [],
   "source": [
    "m = bill_data.shape\n",
    "for i in range(2755):\n",
    "    \n",
    "    if bill_data['Age'].iloc[i] is np.nan:\n",
    "        \n",
    "        print(bill_data['Name'].iloc[i])\n",
    "        "
   ]
  },
  {
   "cell_type": "code",
   "execution_count": 7,
   "id": "1f4530f4",
   "metadata": {},
   "outputs": [
    {
     "data": {
      "text/plain": [
       "72.0"
      ]
     },
     "execution_count": 7,
     "metadata": {},
     "output_type": "execute_result"
    }
   ],
   "source": [
    "bill_data['Age'].iloc[2]"
   ]
  },
  {
   "cell_type": "code",
   "execution_count": 8,
   "id": "31683253",
   "metadata": {},
   "outputs": [],
   "source": [
    "for i in range(5):    \n",
    "    if bill_data['Age'].iloc[i] is np.nan:\n",
    "        print ('yes')"
   ]
  },
  {
   "cell_type": "code",
   "execution_count": 9,
   "id": "fba911b7",
   "metadata": {},
   "outputs": [],
   "source": [
    "bill_data['Age'].fillna(bill_data['Age'].mean(), inplace=True)"
   ]
  },
  {
   "cell_type": "code",
   "execution_count": 10,
   "id": "fa402c3d",
   "metadata": {},
   "outputs": [],
   "source": [
    "bill_data[\"NetWorth\"]=bill_data.NetWorth.str.strip(\"B\")"
   ]
  },
  {
   "cell_type": "code",
   "execution_count": 11,
   "id": "4b6b0bba",
   "metadata": {},
   "outputs": [
    {
     "data": {
      "text/html": [
       "<div>\n",
       "<style scoped>\n",
       "    .dataframe tbody tr th:only-of-type {\n",
       "        vertical-align: middle;\n",
       "    }\n",
       "\n",
       "    .dataframe tbody tr th {\n",
       "        vertical-align: top;\n",
       "    }\n",
       "\n",
       "    .dataframe thead th {\n",
       "        text-align: right;\n",
       "    }\n",
       "</style>\n",
       "<table border=\"1\" class=\"dataframe\">\n",
       "  <thead>\n",
       "    <tr style=\"text-align: right;\">\n",
       "      <th></th>\n",
       "      <th>Name</th>\n",
       "      <th>NetWorth</th>\n",
       "      <th>Country</th>\n",
       "      <th>Source</th>\n",
       "      <th>Rank</th>\n",
       "      <th>Age</th>\n",
       "      <th>Industry</th>\n",
       "    </tr>\n",
       "  </thead>\n",
       "  <tbody>\n",
       "    <tr>\n",
       "      <th>0</th>\n",
       "      <td>Jeff Bezos</td>\n",
       "      <td>$177</td>\n",
       "      <td>United States</td>\n",
       "      <td>Amazon</td>\n",
       "      <td>1</td>\n",
       "      <td>57.0</td>\n",
       "      <td>Technology</td>\n",
       "    </tr>\n",
       "    <tr>\n",
       "      <th>1</th>\n",
       "      <td>Elon Musk</td>\n",
       "      <td>$151</td>\n",
       "      <td>United States</td>\n",
       "      <td>Tesla, SpaceX</td>\n",
       "      <td>2</td>\n",
       "      <td>49.0</td>\n",
       "      <td>Automotive</td>\n",
       "    </tr>\n",
       "  </tbody>\n",
       "</table>\n",
       "</div>"
      ],
      "text/plain": [
       "         Name NetWorth        Country         Source  Rank   Age    Industry\n",
       "0  Jeff Bezos    $177   United States         Amazon     1  57.0  Technology\n",
       "1   Elon Musk    $151   United States  Tesla, SpaceX     2  49.0  Automotive"
      ]
     },
     "execution_count": 11,
     "metadata": {},
     "output_type": "execute_result"
    }
   ],
   "source": [
    "bill_data.head(2)"
   ]
  },
  {
   "cell_type": "code",
   "execution_count": 12,
   "id": "5b5cae95",
   "metadata": {},
   "outputs": [
    {
     "data": {
      "text/html": [
       "<div>\n",
       "<style scoped>\n",
       "    .dataframe tbody tr th:only-of-type {\n",
       "        vertical-align: middle;\n",
       "    }\n",
       "\n",
       "    .dataframe tbody tr th {\n",
       "        vertical-align: top;\n",
       "    }\n",
       "\n",
       "    .dataframe thead th {\n",
       "        text-align: right;\n",
       "    }\n",
       "</style>\n",
       "<table border=\"1\" class=\"dataframe\">\n",
       "  <thead>\n",
       "    <tr style=\"text-align: right;\">\n",
       "      <th></th>\n",
       "      <th>Name</th>\n",
       "      <th>NetWorth</th>\n",
       "      <th>Country</th>\n",
       "      <th>Source</th>\n",
       "      <th>Rank</th>\n",
       "      <th>Age</th>\n",
       "      <th>Industry</th>\n",
       "    </tr>\n",
       "  </thead>\n",
       "  <tbody>\n",
       "    <tr>\n",
       "      <th>0</th>\n",
       "      <td>Jeff Bezos</td>\n",
       "      <td>177</td>\n",
       "      <td>United States</td>\n",
       "      <td>Amazon</td>\n",
       "      <td>1</td>\n",
       "      <td>57.0</td>\n",
       "      <td>Technology</td>\n",
       "    </tr>\n",
       "    <tr>\n",
       "      <th>1</th>\n",
       "      <td>Elon Musk</td>\n",
       "      <td>151</td>\n",
       "      <td>United States</td>\n",
       "      <td>Tesla, SpaceX</td>\n",
       "      <td>2</td>\n",
       "      <td>49.0</td>\n",
       "      <td>Automotive</td>\n",
       "    </tr>\n",
       "  </tbody>\n",
       "</table>\n",
       "</div>"
      ],
      "text/plain": [
       "         Name NetWorth        Country         Source  Rank   Age    Industry\n",
       "0  Jeff Bezos     177   United States         Amazon     1  57.0  Technology\n",
       "1   Elon Musk     151   United States  Tesla, SpaceX     2  49.0  Automotive"
      ]
     },
     "execution_count": 12,
     "metadata": {},
     "output_type": "execute_result"
    }
   ],
   "source": [
    "bill_data['NetWorth']= bill_data.NetWorth.str.strip(\"$\")\n",
    "bill_data.head(2)"
   ]
  },
  {
   "cell_type": "code",
   "execution_count": 13,
   "id": "bd562d11",
   "metadata": {},
   "outputs": [
    {
     "name": "stdout",
     "output_type": "stream",
     "text": [
      "<class 'pandas.core.frame.DataFrame'>\n",
      "RangeIndex: 2755 entries, 0 to 2754\n",
      "Data columns (total 7 columns):\n",
      " #   Column    Non-Null Count  Dtype  \n",
      "---  ------    --------------  -----  \n",
      " 0   Name      2755 non-null   object \n",
      " 1   NetWorth  2755 non-null   object \n",
      " 2   Country   2755 non-null   object \n",
      " 3   Source    2755 non-null   object \n",
      " 4   Rank      2755 non-null   int64  \n",
      " 5   Age       2755 non-null   float64\n",
      " 6   Industry  2755 non-null   object \n",
      "dtypes: float64(1), int64(1), object(5)\n",
      "memory usage: 150.8+ KB\n"
     ]
    }
   ],
   "source": [
    "bill_data.info()"
   ]
  },
  {
   "cell_type": "code",
   "execution_count": 14,
   "id": "88fb1e5e",
   "metadata": {},
   "outputs": [],
   "source": [
    "bill_data['NetWorth']=bill_data.NetWorth.astype(float)"
   ]
  },
  {
   "cell_type": "code",
   "execution_count": 16,
   "id": "24f45474",
   "metadata": {},
   "outputs": [
    {
     "data": {
      "text/plain": [
       "array(['Amazon', 'Tesla, SpaceX', 'LVMH', 'Microsoft', 'Facebook',\n",
       "       'Berkshire Hathaway', 'software', 'Google', 'diversified', 'Zara',\n",
       "       \"L'Oréal\", 'beverages, pharmaceuticals', 'internet media',\n",
       "       'telecom', 'Walmart', 'Bloomberg LP', 'e-commerce',\n",
       "       'Quicken Loans', 'infrastructure, commodities', 'Nike',\n",
       "       'Koch Industries', 'internet, telecom', 'Dell computers',\n",
       "       'fashion retail', 'luxury goods', 'media', 'supermarkets',\n",
       "       'package delivery', 'casinos', 'home appliances', 'retail',\n",
       "       'TikTok', 'Nutella, chocolates', 'Chanel', 'pig breeding',\n",
       "       'online games', 'music, chemicals', 'real estate',\n",
       "       'candy, pet food', 'steel, investments', 'batteries',\n",
       "       'BMW, pharmaceuticals', 'metals', 'Red Bull', 'soy sauce',\n",
       "       'shipping', 'steel, transport', 'mining', 'eyeglasses', 'sensors',\n",
       "       'Estee Lauder', 'discount brokerage', 'oil', 'gas, chemicals',\n",
       "       'hedge funds', 'vaccines', 'newspapers, TV network',\n",
       "       'software services', 'smartphones', 'restaurants', 'oil, gas',\n",
       "       'investments', 'paints', 'BMW', 'medical devices', 'eBay, PayPal',\n",
       "       'H&M', 'money management', 'banking, tobacco', 'automobiles',\n",
       "       'pharmaceuticals', 'casinos/hotels', 'cheese', 'Apple, Disney',\n",
       "       \"Aldi, Trader Joe's\", 'steel, telecom, investments',\n",
       "       'wireless networking gear', 'petrochemicals', 'hospitals',\n",
       "       'coal, fertilizers', 'video streaming',\n",
       "       'finance, telecommunications', 'food', 'messaging app',\n",
       "       'chemicals', 'beer', 'fasteners', 'Heineken',\n",
       "       'retail, investments', 'batteries, automobiles', 'e-cigarettes',\n",
       "       'used cars', 'banking', 'oil, banking, telecom',\n",
       "       'real estate services', 'smartphone screens', 'steel',\n",
       "       'auto parts', 'video conferencing', 'internet search',\n",
       "       'construction', 'video surveillance', 'home improvement stores',\n",
       "       'biotech', 'video streaming app', 'construction equipment',\n",
       "       'packaging', 'Airbnb', 'business software', 'alcohol, real estate',\n",
       "       'education', 'mining, copper products', 'hydraulic machinery',\n",
       "       'ecommerce', 'retail, media', 'commodities', 'coal',\n",
       "       'palm oil, shipping, property', 'Twitter, Square',\n",
       "       'textiles, apparel', 'venture capital', 'gaming', 'semiconductors',\n",
       "       'agribusiness', 'Intel', 'trading, investments', 'Snapchat',\n",
       "       'cement, sugar', 'real estate, shipping', 'retail & gas stations',\n",
       "       'manufacturing', 'electronics components', 'Shipping',\n",
       "       'infant formula', 'solar wafers and modules',\n",
       "       'financial information', 'pharmaceutical ingredients',\n",
       "       'security software', 'WhatsApp', 'plumbing fixtures', 'vacuums',\n",
       "       '★', 'mining, metals, machinery', 'drugstores',\n",
       "       'banking, property', 'satellite TV', 'furniture',\n",
       "       'movies, record labels', 'electronics', 'sports apparel',\n",
       "       'oil & gas', 'media, automotive', 'online services',\n",
       "       'automobiles, batteries', 'computer hardware', 'fintech',\n",
       "       'metals, energy', 'Dallas Cowboys', 'retail, real estate',\n",
       "       'energy', 'beverages', 'cement', 'cryptocurrency', 'Lego',\n",
       "       'lithium batteries', 'motors', 'alcoholic beverages',\n",
       "       'snacks, beverages', 'biotech, investments', 'private equity',\n",
       "       'aluminum products', 'Chick-fil-A', 'Samsung', 'consumer goods',\n",
       "       'construction, investments', 'sports, real estate', 'roofing',\n",
       "       'diamonds', 'banks, real estate', 'personal care goods',\n",
       "       'cable television', 'health care', 'investments, real estate',\n",
       "       'real estate, investments', 'steel, mining', 'steel, coal',\n",
       "       'power strips', 'power strip', 'Star Wars', 'appliance retailer',\n",
       "       'hotels, energy', 'Home Depot', 'gambling', 'apparel',\n",
       "       'financial services', 'agriculture, water', 'Roku', 'tequila',\n",
       "       'pipelines', 'New Balance', 'conglomerate', 'New England Patriots',\n",
       "       'consumer products', 'poultry genetics', 'wind turbines',\n",
       "       'Carnival Cruises', 'online retail', 'fertilizer',\n",
       "       'smartphone components', 'online gambling',\n",
       "       'elevators, escalators', 'medical equipment',\n",
       "       'real estate, construction', 'Cargill', 'natural gas distribution',\n",
       "       'construction, mining', 'candy', 'online games, investments',\n",
       "       'food, beverages', 'liquor', 'toys', 'chemicals, spandex',\n",
       "       'acoustic components', 'advertising', 'manufacturing, investments',\n",
       "       'metalworking tools', 'telecom, oil', 'imaging systems',\n",
       "       'drilling, shipping', 'household appliances', 'Software',\n",
       "       'Hyundai', 'hospitals, health care', 'health IT', 'optometry',\n",
       "       'temp agency', 'fertilizers', 'Estée Lauder', 'Spotify',\n",
       "       'Marvel comics', 'eBay', 'online entertainment',\n",
       "       'solar panel components', 'beer, investments',\n",
       "       'oil & gas, banking', 'telecoms, media, oil-services',\n",
       "       'renewable energy', 'electric vehicles', 'sporting goods',\n",
       "       'Hermes', 'FedEx', 'real estate, retail', 'mapping software',\n",
       "       'self storage', 'biomedical products', 'Real Estate',\n",
       "       'record label', 'Dolby Laboratories', 'oil and gas, IT, lotteries',\n",
       "       'food distribution', 'shipping, seafood', 'dental implants',\n",
       "       'natural gas', 'agriculture', 'airlines', 'photovoltaic equipment',\n",
       "       'finance', 'retail chain', 'real estate, private equity',\n",
       "       'coffee makers', 'shopping malls', 'investment research',\n",
       "       'home furnishings', 'pest control', 'glass', 'gambling software',\n",
       "       'oil, investments', 'Netflix', 'coffee', 'paper',\n",
       "       'palm oil, property', 'dairy', 'motorcycles', 'ports',\n",
       "       'utilities, telecom', 'staffing, Baltimore Ravens', 'insurance',\n",
       "       'hotels, investments', 'Starbucks', 'mobile phone retailer',\n",
       "       'Lululemon', 'touch screens', 'food services', 'Virgin',\n",
       "       'car dealerships', 'tech investments', 'drones', 'tires',\n",
       "       'retailing', 'energy, investments', 'paint', 'kitchen appliances',\n",
       "       'Best Buy', 'hardware stores', 'video games', 'building materials',\n",
       "       'vodka', 'construction, media', 'casinos, property, energy',\n",
       "       'Houston Rockets, entertainment', 'mobile payments',\n",
       "       'construction materials', 'frozen foods', 'chicken processing',\n",
       "       'fertilizer, real estate', 'navigation equipment',\n",
       "       'textiles, petrochemicals', 'Uber',\n",
       "       'online media, Dallas Mavericks', 'fish farming', 'valves',\n",
       "       'internet service provider', 'Groupon',\n",
       "       'construction equipment, media', 'aircraft leasing',\n",
       "       'online media', 'pharmaceuticals, medical equipment',\n",
       "       'surveillance equipment', 'spirits', 'payroll services',\n",
       "       'oil, real estate', 'healthcare', 'electrical equipment',\n",
       "       'cybersecurity', 'computer services, real estate',\n",
       "       'Toyota dealerships', 'diamond jewelry', 'software, investments',\n",
       "       'hotels, motels', 'energy, sports', 'sporting goods retail',\n",
       "       'videogames', 'cosmetics', 'investing',\n",
       "       'tobacco distribution, retail', 'aluminum', 'biopharmaceuticals',\n",
       "       'biotechnology', 'furniture retailing', 'airline', 'trucking',\n",
       "       'solar energy', 'synthetic gloves', 'laboratory services', 'shoes',\n",
       "       'U-Haul', 'Pinterest', 'heating and cooling equipment',\n",
       "       'bakery chain', 'aluminum, utilities', 'computer software',\n",
       "       'copper, education', 'online advertising', 'palm oil',\n",
       "       'prosthetics', 'hand tools', 'machinery', 'solar panel materials',\n",
       "       'homebuilding', 'Little Caesars', 'lithium', 'Campbell Soup',\n",
       "       'leveraged buyouts', 'hospitals, health insurance',\n",
       "       'TD Ameritrade', 'pipe manufacturing', 'movies', 'IT provider',\n",
       "       'electronic trading', 'energy drinks',\n",
       "       'construction, mining machinery', 'mining, metals', 'flavorings',\n",
       "       'cleaning products', 'pharmacies', 'paper & related products',\n",
       "       'In-N-Out Burger', 'batteries, investments',\n",
       "       'real estate, plush toys', 'oil, banking', 'publishing',\n",
       "       'motorcycle loans', 'Yahoo', 'book distribution, transportation',\n",
       "       'auto dealerships', 'rubber gloves', 'grocery delivery service',\n",
       "       'payments software', 'brakes', 'wine', 'San Francisco 49ers',\n",
       "       'scaffolding, cement mixers', 'pro sports teams',\n",
       "       'cement, diversified', 'staffing & recruiting', 'Formula One',\n",
       "       'mining, steel', 'tobacco', 'movie making',\n",
       "       'billboards, Anaheim Angels', 'winter jackets',\n",
       "       'oil & gas, investments', 'online apparel retail',\n",
       "       'mining, banking, hotels', 'nutrition, wellness products',\n",
       "       'Internet', 'telecom, investments', 'defense', 'electric scooters',\n",
       "       'aviation', 'soft drinks, fast food', 'banking, insurance, media',\n",
       "       'fashion', 'banking, real estate', 'ticketing service',\n",
       "       'chewing gum', 'fashion retail, investments', 'oil, semiconductor',\n",
       "       'payment software', 'fast food', 'timberland, lumber mills',\n",
       "       'auto loans', 'engineering', 'Pharmaceuticals', 'TV broadcasting',\n",
       "       'fashion investments', 'casinos, hotels', 'medical technology',\n",
       "       'mobile phones', 'medical labs', 'Gap', 'hair dryers', 'logistics',\n",
       "       'media, investments', 'email marketing', 'health insurance',\n",
       "       'employment agency', 'biochemicals', 'gas stations, retail',\n",
       "       'Indianapolis Colts', 'meat processing', 'bakeries',\n",
       "       'Philadelphia Eagles', 'TV network, investments', 'media, tech',\n",
       "       'aluminum, diversified', 'measuring instruments',\n",
       "       'TV, movie production', 'beef processing', 'beef packing',\n",
       "       'engineering, construction', 'household chemicals', 'poultry',\n",
       "       'hotels', 'technology', 'amusement parks',\n",
       "       'nutritional supplements', 'pharmaceuticals, power',\n",
       "       'metals, banking, fertilizers', 'real estate, airport',\n",
       "       'payroll processing', 'construction, pipes, banking', 'printing',\n",
       "       'hardware', 'art, car dealerships', 'stationery',\n",
       "       'Netscape, investments', 'materials', 'Furniture retail', 'lasers',\n",
       "       'sports', 'steel, diversified', 'Walmart, logistics',\n",
       "       'chemicals, investments', 'art collection',\n",
       "       'manufacturing, investment', 'banking, credit cards',\n",
       "       'information technology', 'investment banking',\n",
       "       'gold, coal mining', 'outsourcing', 'food delivery service',\n",
       "       'Columbia Sportswear', 'hair products, tequila',\n",
       "       'department stores', 'sunglasses', 'travel', 'appliances',\n",
       "       'power equipment', 'utilities, real estate', 'metals, coal',\n",
       "       'Contact Lens', 'TV shows', 'real estate, media',\n",
       "       'mortgage lender', 'insurance, investments',\n",
       "       'copy machines, software', 'payroll software', 'alcohol',\n",
       "       'finance and investments', 'Washington Redskins', 'Twitter',\n",
       "       'Smartphones', 'Publix supermarkets', 'metals, mining',\n",
       "       'education technology', 'orange juice', 'SAP', 'food service',\n",
       "       '3D printing', 'banking, minerals', 'luxury fashion',\n",
       "       'steel pipes, diversified', 'generic drugs',\n",
       "       'venture capital, Google', 'edible oil', 'pet food', 'auto repair',\n",
       "       'sports retailing', 'automotive brakes', 'health information',\n",
       "       'hair care products', 'medical testing', 'payments processing',\n",
       "       'solar equipment', 'sensor technology', 'LG', 'agriculture, land',\n",
       "       'adhesives', 'steel pipes', 'steel production',\n",
       "       'transport, engineering, real estate', 'food processing',\n",
       "       'Coca Cola Israel', 'soft drinks, diversified', 'online gaming',\n",
       "       'entertainment', 'insurance, beverages', 'communication equipment',\n",
       "       'shopping centers', 'plastic pipes', 'logistics, real estate',\n",
       "       'poultry processing', 'restaurant', 'Investments', 'investment',\n",
       "       'payment processing', 'cannabis', 'express delivery',\n",
       "       'live streaming service', 'mining, commodities',\n",
       "       'drug distribution', 'media, real estate', 'jewelry',\n",
       "       'financial technology', 'hygiene products', 'search engine',\n",
       "       'chemicals, logistics', 'paper manufacturing',\n",
       "       'auto dealers, investments', 'Diversified', 'hearing aids',\n",
       "       'Zillow', 'casinos, mixed martial arts', 'consumer electronics',\n",
       "       'Petro Fibre', 'Petro Firbe', 'energy, real estate',\n",
       "       'optical components', 'home building, banking', 'web hosting',\n",
       "       'cloud technology', 'agrochemicals', 'solar systems', 'train cars',\n",
       "       'mobile apps', 'precious metals, real estate',\n",
       "       'precision machinery', 'security', 'defense, hotels', 'Getty Oil',\n",
       "       'retail stores', 'transportation', 'software firm', 'hedge fund',\n",
       "       'scientific equipment', 'snack bars', 'coffee, shipping',\n",
       "       'Dole, real estate', 'construction, real estate', 'cars',\n",
       "       'casinos, real estate', 'stock brokerage', 'footwear',\n",
       "       'semiconductor', 'metal processing', 'Slim-Fast',\n",
       "       'forestry, mining', 'home sales', 'retail, agribusiness',\n",
       "       'Coca-Cola bottler', 'TV programs', 'energy, chemicals',\n",
       "       'FIAT, investments', 'carpet', 'food delivery app',\n",
       "       'live entertainment', 'drug testing', 'LinkedIn', 'machine tools',\n",
       "       'flooring', 'clinical diagnostics', 'Under Armour', 'Waffle House',\n",
       "       'titanium', 'chemical', 'real estate development', 'greek yogurt',\n",
       "       'budget airline', 'plastics', 'petroleum, diversified',\n",
       "       'online dating', 'biotech investing', 'polyester',\n",
       "       'herbal products', 'office real estate',\n",
       "       'pharmaceuticals, diversified', 'cryptocurrency exchange',\n",
       "       'motorhomes, RVs', 'automotive', 'gas stations', 'DirecTV',\n",
       "       'cloud computing', 'tractors', 'Comcast', 'medical packaging',\n",
       "       'Instagram', 'feed', 'electronic components',\n",
       "       'healthcare services', 'coking', 'sports team', 'game software',\n",
       "       'banking, development', 'real estate, manufacturing',\n",
       "       'mutual funds', 'Patagonia', 'shipbuilding', 'Nascar, racing',\n",
       "       'beauty products', 'data analytics', 'ceramic',\n",
       "       'cloud storage service', 'damaged cars', 'airport',\n",
       "       'banking, investments', 'pharmacueticals', 'telecom services',\n",
       "       'utilities, diversified', 'finance, diversified', 'tire',\n",
       "       'real estate brokerage', 'Manufacturing', 'medical cosmetics',\n",
       "       'liquor stores, supermarkets', 'oil trading', 'sauce',\n",
       "       'music, sneakers', 'internet', 'Motors', 'brewery', 'IT products',\n",
       "       'venture capital investing', 'Subway sandwich shops',\n",
       "       'messaging software', 'real estate, electronics',\n",
       "       'testing equipment', 'online payments', 'pulp and paper',\n",
       "       'oil refining', 'salsa', 'oil, retail', 'pachinko parlors',\n",
       "       'non-ferrous metals', 'retail, wholesale', 'Sears',\n",
       "       'sandwich chain', 'LED lighting', 'medical patents',\n",
       "       'computer games', 'sports teams', 'wire & cables, paints',\n",
       "       'banking, insurance', 'coal mines', 'carbon fiber products',\n",
       "       'cobalt', 'hotels, diversified', 'casinos, banking', 'nonferrous',\n",
       "       'transport, logistics', 'consumer products, banking',\n",
       "       'storage facilities', 'Charlotte Hornets, endorsements',\n",
       "       'powdered metal', 'valve manufacturing', 'cable TV, investments',\n",
       "       'cooking appliances', 'oil refinery', 'sugar, ethanol',\n",
       "       'confectionery', 'jewellery', 'infrastructure', 'steel, autoparts',\n",
       "       'oilfield equipment', 'packaged foods', 'electric equipment',\n",
       "       'LCD main board', 'health products', 'energy services',\n",
       "       'pearlescent pigments', 'supermarkets, investments',\n",
       "       'energy, banking, construction', 'AOL', 'pharmaceutical',\n",
       "       'IT consulting', 'commodities, investments', 'Peloton', 'cruises',\n",
       "       'electric components', 'dental products', 'medical diagnostics',\n",
       "       'accounting services', 'medical products', 'chemical industry',\n",
       "       'real estate, oil, cars, sports', 'art',\n",
       "       'energy drinks,investments', 'wedding dresses', 'Electric power',\n",
       "       'security services', 'lighting', 'textile, chemicals',\n",
       "       'pharmaceutical services', 'natural gas, fertilizers',\n",
       "       'vaccine & shoes', 'waste disposal', 'Chemicals', 'health clinics',\n",
       "       'Aluminium', 'robotics', 'automotive technology', 'banking, oil',\n",
       "       'airport management', 'logistics, baseball', 'tires, diversified',\n",
       "       'industrial lasers', 'textiles', \"Levi's jeans\",\n",
       "       'Urban Outfitters', 'Bio-Pharma', 'home appliance',\n",
       "       'printed circuit boards', 'Multiple', 'grocery stores', 'Banking',\n",
       "       'seed production', 'semiconductor devices', 'diagnostics',\n",
       "       'copper, poultry', 'telecommunication', 'fine jewelry',\n",
       "       'stock photos', 'processed milk', 'refinery, chemicals',\n",
       "       'stock exchange', \"Dick's Sporting Goods\", 'heathcare',\n",
       "       'insurance, NFL team', 'computer networking', 'oil and gas',\n",
       "       'gym equipment', 'air coolers', 'mining, banking',\n",
       "       'parcel lockers', 'fishing', 'educational services', 'property',\n",
       "       'poultry breeding', 'metallurgy', 'Apple', 'airports, investments',\n",
       "       'Electronics', 'silicon', 'home & office products',\n",
       "       'asset management', 'real estate, gambling', 'I.T.',\n",
       "       'Financial Services', 'fashion retailer', 'cobalt mining',\n",
       "       'Logistics', 'real estate, diversified', 'airports, real estate',\n",
       "       'dating app', 'IT service', 'Daqo Group', 'coal mining',\n",
       "       'transportation equipment', 'tyre manufacturing machinery',\n",
       "       'Education', 'engineering, energy, construction', 'flipkart',\n",
       "       'used car sales', 'air compressors', 'ride-hailing service',\n",
       "       'computer services, telecom', 'payments technology',\n",
       "       'finance, real estate', 'energy drink', 'Media', 'uber',\n",
       "       'tourism, construction', 'EasyJet', 'convenience stores',\n",
       "       'Airline', 'mobile games', 'IKEA', 'mobile gaming',\n",
       "       'online car sales', 'electronics, household products',\n",
       "       'Golden State Warriors', 'Cirque du Soleil',\n",
       "       'food products, entertainment', 'copper', 'Construction',\n",
       "       'Internet services', 'price comparison website', 'aerospace',\n",
       "       'coal & coke', 'down jackets', 'telecom equipment',\n",
       "       'beer distribution', 'construction, pipes, chemicals',\n",
       "       'video games, pachinko', 'finance, development', 'paper and pulp',\n",
       "       'home building', 'movies, investments', 'fiber optic cables',\n",
       "       'plastics/investment', 'Navigation', 'liquefied petroleum gas',\n",
       "       'Real estate', 'lithium battery', 'sensor systems', 'solar',\n",
       "       'Reebok', 'convinience stores', 'mattresses', 'chemical products',\n",
       "       'Nordstrom department stores', 'guns', 'Electrical appliances',\n",
       "       'Restaurants', 'Fulgent Genetics', 'tourism', 'communications',\n",
       "       'industrial equipment', 'social network', 'consumer technology',\n",
       "       'palm oil, nickel mining', 'magnetic switches', 'cloud software',\n",
       "       'canned food', 'IT consulting, outsourcing',\n",
       "       'liquefied natural gas', 'factory equipment',\n",
       "       'investor relations consulting', 'real estate developer',\n",
       "       'wastewater treatment', 'industrial machinery',\n",
       "       'tourism, cultural industry', 'snacks', 'Hotels', 'utilities',\n",
       "       'pulp and paper, diversified', 'oil, mining', 'stock trading app',\n",
       "       'high speed trading', 'Bluehole',\n",
       "       'shipbuilding, industrial machines', 'kombucha', 'wind power',\n",
       "       'flavors and fragrances', 'bakeries, fast food', 'tiles',\n",
       "       'cosmetics, reality TV', 'teeth aligners', 'online retailing',\n",
       "       'internet services', 'packaged meats', 'fisheries',\n",
       "       'defense contractor', 'toll roads', 'movies, television',\n",
       "       'stock trading', 'telecom, lotteries, insurance',\n",
       "       'artificial turf', 'optical devices', 'Shoes', 'Citigroup',\n",
       "       'pharmacy', 'Fiberglass', 'gold mining'], dtype=object)"
      ]
     },
     "execution_count": 16,
     "metadata": {},
     "output_type": "execute_result"
    }
   ],
   "source": [
    "bill_data.Source.unique()"
   ]
  },
  {
   "cell_type": "code",
   "execution_count": 17,
   "id": "0e5e9304",
   "metadata": {},
   "outputs": [],
   "source": [
    "# top 5 Sources\n",
    "source = bill_data.Source.value_counts().head(5)\n",
    "index = source.index"
   ]
  },
  {
   "cell_type": "code",
   "execution_count": 18,
   "id": "acd93a16",
   "metadata": {},
   "outputs": [
    {
     "data": {
      "text/plain": [
       "(real estate        171\n",
       " pharmaceuticals     99\n",
       " investments         90\n",
       " diversified         85\n",
       " software            62\n",
       " Name: Source, dtype: int64,\n",
       " Index(['real estate', 'pharmaceuticals', 'investments', 'diversified',\n",
       "        'software'],\n",
       "       dtype='object'))"
      ]
     },
     "execution_count": 18,
     "metadata": {},
     "output_type": "execute_result"
    }
   ],
   "source": [
    "source, index"
   ]
  },
  {
   "cell_type": "code",
   "execution_count": 19,
   "id": "38bf0cc8",
   "metadata": {},
   "outputs": [],
   "source": [
    "sources = source.values"
   ]
  },
  {
   "cell_type": "code",
   "execution_count": 20,
   "id": "eeb6c74f",
   "metadata": {},
   "outputs": [
    {
     "data": {
      "text/plain": [
       "<matplotlib.patches.Circle at 0x18642c27130>"
      ]
     },
     "execution_count": 20,
     "metadata": {},
     "output_type": "execute_result"
    },
    {
     "data": {
      "image/png": "[encoded data removed]",
      "text/plain": [
       "<Figure size 360x360 with 1 Axes>"
      ]
     },
     "metadata": {},
     "output_type": "display_data"
    }
   ],
   "source": [
    "#plotting\n",
    "\n",
    "custom_colors = ['skyblue','yellowgreen', 'tomato', 'blue','red']\n",
    "plt.figure(figsize=(5,5))\n",
    "plt.pie(sources, labels=index, colors=custom_colors)\n",
    "central_circle = plt.Circle((0,0),0.5,color='white')\n",
    "fig = plt.gcf()\n",
    "fig.gca().add_artist(central_circle)"
   ]
  },
  {
   "cell_type": "code",
   "execution_count": 21,
   "id": "3f8fda4f",
   "metadata": {},
   "outputs": [
    {
     "data": {
      "text/plain": [
       "(Index(['tequila', 'retail, agribusiness', 'wastewater treatment', 'travel',\n",
       "        'fasteners'],\n",
       "       dtype='object'),\n",
       " array([1, 1, 1, 1, 1], dtype=int64))"
      ]
     },
     "execution_count": 21,
     "metadata": {},
     "output_type": "execute_result"
    }
   ],
   "source": [
    "# last 5 Sources\n",
    "\n",
    "df_lst = bill_data['Source'].value_counts().tail(5)\n",
    "index = df_lst.index\n",
    "sources = df_lst.values\n",
    "index, sources"
   ]
  },
  {
   "cell_type": "code",
   "execution_count": 22,
   "id": "3e9fed00",
   "metadata": {},
   "outputs": [
    {
     "data": {
      "image/png": "[encoded data removed]",
      "text/plain": [
       "<Figure size 360x360 with 1 Axes>"
      ]
     },
     "metadata": {},
     "output_type": "display_data"
    }
   ],
   "source": [
    "#plotting\n",
    "custom_colors = ['blue','yellow', 'tomato', 'grey','red']\n",
    "plt.figure(figsize=(5,5))\n",
    "plt.pie(sources,colors=custom_colors,labels=index)\n",
    "centre_circle = plt.Circle((0,0),0.3,color='white')\n",
    "fig = plt.gcf()\n",
    "fig.gca().add_artist(centre_circle)\n",
    "plt.show()"
   ]
  },
  {
   "cell_type": "code",
   "execution_count": 25,
   "id": "385a4b5c",
   "metadata": {},
   "outputs": [
    {
     "data": {
      "text/plain": [
       "Index(['Finance & Investments', 'Technology', 'Manufacturing',\n",
       "       'Fashion & Retail', 'Healthcare'],\n",
       "      dtype='object')"
      ]
     },
     "execution_count": 25,
     "metadata": {},
     "output_type": "execute_result"
    }
   ],
   "source": [
    "df_ins = bill_data['Industry'].value_counts().head()\n",
    "index = df_ins.index\n",
    "sources = df_ins.values\n",
    "index"
   ]
  },
  {
   "cell_type": "code",
   "execution_count": 26,
   "id": "ede2cbdd",
   "metadata": {},
   "outputs": [
    {
     "data": {
      "image/png": "[encoded data removed]",
      "text/plain": [
       "<Figure size 360x360 with 1 Axes>"
      ]
     },
     "metadata": {},
     "output_type": "display_data"
    }
   ],
   "source": [
    "#plotting\n",
    "custom_colors = ['blue','yellow', 'tomato', 'grey','red']\n",
    "plt.figure(figsize=(5,5))\n",
    "plt.pie(sources,colors=custom_colors,labels=index)\n",
    "centre_circle = plt.Circle((0,0),0.3,color='white')\n",
    "fig = plt.gcf()\n",
    "fig.gca().add_artist(centre_circle)\n",
    "plt.show()"
   ]
  },
  {
   "cell_type": "code",
   "execution_count": 27,
   "id": "dec5da0e",
   "metadata": {},
   "outputs": [
    {
     "data": {
      "text/html": [
       "<div>\n",
       "<style scoped>\n",
       "    .dataframe tbody tr th:only-of-type {\n",
       "        vertical-align: middle;\n",
       "    }\n",
       "\n",
       "    .dataframe tbody tr th {\n",
       "        vertical-align: top;\n",
       "    }\n",
       "\n",
       "    .dataframe thead th {\n",
       "        text-align: right;\n",
       "    }\n",
       "</style>\n",
       "<table border=\"1\" class=\"dataframe\">\n",
       "  <thead>\n",
       "    <tr style=\"text-align: right;\">\n",
       "      <th></th>\n",
       "      <th>Name</th>\n",
       "      <th>NetWorth</th>\n",
       "      <th>Country</th>\n",
       "      <th>Source</th>\n",
       "      <th>Rank</th>\n",
       "      <th>Age</th>\n",
       "      <th>Industry</th>\n",
       "    </tr>\n",
       "  </thead>\n",
       "  <tbody>\n",
       "    <tr>\n",
       "      <th>0</th>\n",
       "      <td>Jeff Bezos</td>\n",
       "      <td>177.0</td>\n",
       "      <td>United States</td>\n",
       "      <td>Amazon</td>\n",
       "      <td>1</td>\n",
       "      <td>57.0</td>\n",
       "      <td>Technology</td>\n",
       "    </tr>\n",
       "    <tr>\n",
       "      <th>1</th>\n",
       "      <td>Elon Musk</td>\n",
       "      <td>151.0</td>\n",
       "      <td>United States</td>\n",
       "      <td>Tesla, SpaceX</td>\n",
       "      <td>2</td>\n",
       "      <td>49.0</td>\n",
       "      <td>Automotive</td>\n",
       "    </tr>\n",
       "    <tr>\n",
       "      <th>2</th>\n",
       "      <td>Bernard Arnault &amp; family</td>\n",
       "      <td>150.0</td>\n",
       "      <td>France</td>\n",
       "      <td>LVMH</td>\n",
       "      <td>3</td>\n",
       "      <td>72.0</td>\n",
       "      <td>Fashion &amp; Retail</td>\n",
       "    </tr>\n",
       "    <tr>\n",
       "      <th>3</th>\n",
       "      <td>Bill Gates</td>\n",
       "      <td>124.0</td>\n",
       "      <td>United States</td>\n",
       "      <td>Microsoft</td>\n",
       "      <td>4</td>\n",
       "      <td>65.0</td>\n",
       "      <td>Technology</td>\n",
       "    </tr>\n",
       "    <tr>\n",
       "      <th>4</th>\n",
       "      <td>Mark Zuckerberg</td>\n",
       "      <td>97.0</td>\n",
       "      <td>United States</td>\n",
       "      <td>Facebook</td>\n",
       "      <td>5</td>\n",
       "      <td>36.0</td>\n",
       "      <td>Technology</td>\n",
       "    </tr>\n",
       "  </tbody>\n",
       "</table>\n",
       "</div>"
      ],
      "text/plain": [
       "                       Name  NetWorth        Country         Source  Rank  \\\n",
       "0                Jeff Bezos     177.0  United States         Amazon     1   \n",
       "1                 Elon Musk     151.0  United States  Tesla, SpaceX     2   \n",
       "2  Bernard Arnault & family     150.0         France           LVMH     3   \n",
       "3                Bill Gates     124.0  United States      Microsoft     4   \n",
       "4           Mark Zuckerberg      97.0  United States       Facebook     5   \n",
       "\n",
       "    Age          Industry  \n",
       "0  57.0        Technology  \n",
       "1  49.0        Automotive  \n",
       "2  72.0  Fashion & Retail  \n",
       "3  65.0        Technology  \n",
       "4  36.0        Technology  "
      ]
     },
     "execution_count": 27,
     "metadata": {},
     "output_type": "execute_result"
    }
   ],
   "source": [
    "bill_data.head()"
   ]
  },
  {
   "cell_type": "code",
   "execution_count": 29,
   "id": "89bbf77e",
   "metadata": {},
   "outputs": [
    {
     "data": {
      "text/html": [
       "<div>\n",
       "<style scoped>\n",
       "    .dataframe tbody tr th:only-of-type {\n",
       "        vertical-align: middle;\n",
       "    }\n",
       "\n",
       "    .dataframe tbody tr th {\n",
       "        vertical-align: top;\n",
       "    }\n",
       "\n",
       "    .dataframe thead th {\n",
       "        text-align: right;\n",
       "    }\n",
       "</style>\n",
       "<table border=\"1\" class=\"dataframe\">\n",
       "  <thead>\n",
       "    <tr style=\"text-align: right;\">\n",
       "      <th></th>\n",
       "      <th>Name</th>\n",
       "      <th>NetWorth</th>\n",
       "      <th>Country</th>\n",
       "      <th>Source</th>\n",
       "      <th>Rank</th>\n",
       "      <th>Age</th>\n",
       "      <th>Industry</th>\n",
       "    </tr>\n",
       "  </thead>\n",
       "  <tbody>\n",
       "    <tr>\n",
       "      <th>1611</th>\n",
       "      <td>George Joseph</td>\n",
       "      <td>2.0</td>\n",
       "      <td>United States</td>\n",
       "      <td>insurance</td>\n",
       "      <td>1580</td>\n",
       "      <td>99.0</td>\n",
       "      <td>Finance &amp; Investments</td>\n",
       "    </tr>\n",
       "    <tr>\n",
       "      <th>170</th>\n",
       "      <td>Robert Kuok</td>\n",
       "      <td>12.6</td>\n",
       "      <td>Malaysia</td>\n",
       "      <td>palm oil, shipping, property</td>\n",
       "      <td>171</td>\n",
       "      <td>97.0</td>\n",
       "      <td>Diversified</td>\n",
       "    </tr>\n",
       "    <tr>\n",
       "      <th>1626</th>\n",
       "      <td>Charles Munger</td>\n",
       "      <td>2.0</td>\n",
       "      <td>United States</td>\n",
       "      <td>Berkshire Hathaway</td>\n",
       "      <td>1580</td>\n",
       "      <td>97.0</td>\n",
       "      <td>Finance &amp; Investments</td>\n",
       "    </tr>\n",
       "    <tr>\n",
       "      <th>1559</th>\n",
       "      <td>David Murdock</td>\n",
       "      <td>2.1</td>\n",
       "      <td>United States</td>\n",
       "      <td>Dole, real estate</td>\n",
       "      <td>1517</td>\n",
       "      <td>97.0</td>\n",
       "      <td>Food &amp; Beverage</td>\n",
       "    </tr>\n",
       "    <tr>\n",
       "      <th>1381</th>\n",
       "      <td>Fong Yun Wah</td>\n",
       "      <td>2.3</td>\n",
       "      <td>Hong Kong</td>\n",
       "      <td>real estate</td>\n",
       "      <td>1362</td>\n",
       "      <td>96.0</td>\n",
       "      <td>Real Estate</td>\n",
       "    </tr>\n",
       "  </tbody>\n",
       "</table>\n",
       "</div>"
      ],
      "text/plain": [
       "                Name  NetWorth        Country                        Source  \\\n",
       "1611   George Joseph       2.0  United States                     insurance   \n",
       "170      Robert Kuok      12.6       Malaysia  palm oil, shipping, property   \n",
       "1626  Charles Munger       2.0  United States            Berkshire Hathaway   \n",
       "1559   David Murdock       2.1  United States             Dole, real estate   \n",
       "1381    Fong Yun Wah       2.3      Hong Kong                   real estate   \n",
       "\n",
       "      Rank   Age               Industry  \n",
       "1611  1580  99.0  Finance & Investments  \n",
       "170    171  97.0            Diversified  \n",
       "1626  1580  97.0  Finance & Investments  \n",
       "1559  1517  97.0        Food & Beverage  \n",
       "1381  1362  96.0            Real Estate  "
      ]
     },
     "execution_count": 29,
     "metadata": {},
     "output_type": "execute_result"
    }
   ],
   "source": [
    "df = bill_data.sort_values(by = 'Age', ascending=False)\n",
    "df.head()"
   ]
  },
  {
   "cell_type": "code",
   "execution_count": 30,
   "id": "003ff71f",
   "metadata": {},
   "outputs": [
    {
     "name": "stdout",
     "output_type": "stream",
     "text": [
      "1611     2.0\n",
      "170     12.6\n",
      "1626     2.0\n",
      "1559     2.1\n",
      "1381     2.3\n",
      "Name: NetWorth, dtype: float64\n"
     ]
    }
   ],
   "source": [
    "print(df.NetWorth.head())"
   ]
  },
  {
   "cell_type": "code",
   "execution_count": null,
   "id": "bf98fbb6",
   "metadata": {},
   "outputs": [],
   "source": []
  }
 ],
 "metadata": {
  "kernelspec": {
   "display_name": "Python 3",
   "language": "python",
   "name": "python3"
  },
  "language_info": {
   "codemirror_mode": {
    "name": "ipython",
    "version": 3
   },
   "file_extension": ".py",
   "mimetype": "text/x-python",
   "name": "python",
   "nbconvert_exporter": "python",
   "pygments_lexer": "ipython3",
   "version": "3.8.8"
  }
 },
 "nbformat": 4,
 "nbformat_minor": 5
}
